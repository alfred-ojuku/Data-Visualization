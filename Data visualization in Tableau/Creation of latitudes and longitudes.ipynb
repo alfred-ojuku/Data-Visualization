{
 "cells": [
  {
   "cell_type": "code",
   "execution_count": 20,
   "id": "3c2e0c78",
   "metadata": {},
   "outputs": [
    {
     "ename": "KeyError",
     "evalue": "'coordinates'",
     "output_type": "error",
     "traceback": [
      "\u001b[1;31m---------------------------------------------------------------------------\u001b[0m",
      "\u001b[1;31mKeyError\u001b[0m                                  Traceback (most recent call last)",
      "Cell \u001b[1;32mIn[20], line 13\u001b[0m\n\u001b[0;32m     11\u001b[0m lons, lats \u001b[38;5;241m=\u001b[39m [], []\n\u001b[0;32m     12\u001b[0m \u001b[38;5;28;01mfor\u001b[39;00m eq_dict \u001b[38;5;129;01min\u001b[39;00m all_eq_dicts:\n\u001b[1;32m---> 13\u001b[0m     lon \u001b[38;5;241m=\u001b[39m \u001b[43meq_dict\u001b[49m\u001b[43m[\u001b[49m\u001b[38;5;124;43m'\u001b[39;49m\u001b[38;5;124;43mgeometry\u001b[39;49m\u001b[38;5;124;43m'\u001b[39;49m\u001b[43m]\u001b[49m\u001b[43m[\u001b[49m\u001b[38;5;124;43m'\u001b[39;49m\u001b[38;5;124;43mcoordinates\u001b[39;49m\u001b[38;5;124;43m'\u001b[39;49m\u001b[43m]\u001b[49m[\u001b[38;5;241m0\u001b[39m]\n\u001b[0;32m     14\u001b[0m     lat \u001b[38;5;241m=\u001b[39m eq_dict[\u001b[38;5;124m'\u001b[39m\u001b[38;5;124mgeometry\u001b[39m\u001b[38;5;124m'\u001b[39m][\u001b[38;5;124m'\u001b[39m\u001b[38;5;124mcoordinates\u001b[39m\u001b[38;5;124m'\u001b[39m][\u001b[38;5;241m1\u001b[39m]\n\u001b[0;32m     15\u001b[0m     lons\u001b[38;5;241m.\u001b[39mappend(lon)\n",
      "\u001b[1;31mKeyError\u001b[0m: 'coordinates'"
     ]
    }
   ],
   "source": [
    "import json\n",
    "from plotly.graph_objs import Scattergeo, Layout\n",
    "from plotly import offline\n",
    "\n",
    "#data structure exploration\n",
    "filename = 'eq_data_30_day_m1.json'\n",
    "with open(filename, encoding='utf-8') as f:\n",
    "    all_eq_data = json.load(f)\n",
    "    all_eq_dicts = all_eq_data['features']\n",
    "    \n",
    "    lons, lats = [], []\n",
    "    for eq_dict in all_eq_dicts:\n",
    "        lon = eq_dict['geometry']['coordinates'][0]\n",
    "        lat = eq_dict['geometry']['coordinates'][1]\n",
    "        lons.append(lon)\n",
    "        lats.append(lat)\n",
    "        \n",
    "        \n",
    "    #for lon in lons:\n",
    "        for eq_dict in all_eq_dicts:\n",
    "            del(eq_dict['geometry']['coordinates'])\n",
    "            \n",
    "\n",
    "print(len(eq_dict['geometry']['coordinates']))\n"
   ]
  },
  {
   "cell_type": "code",
   "execution_count": null,
   "id": "56a21837",
   "metadata": {},
   "outputs": [],
   "source": []
  }
 ],
 "metadata": {
  "kernelspec": {
   "display_name": "Python 3 (ipykernel)",
   "language": "python",
   "name": "python3"
  },
  "language_info": {
   "codemirror_mode": {
    "name": "ipython",
    "version": 3
   },
   "file_extension": ".py",
   "mimetype": "text/x-python",
   "name": "python",
   "nbconvert_exporter": "python",
   "pygments_lexer": "ipython3",
   "version": "3.8.5"
  }
 },
 "nbformat": 4,
 "nbformat_minor": 5
}
